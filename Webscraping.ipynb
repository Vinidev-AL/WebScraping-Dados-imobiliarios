{
 "cells": [
  {
   "cell_type": "code",
   "execution_count": 119,
   "id": "64d6e355-dfe6-45a3-9b59-392024219712",
   "metadata": {
    "scrolled": true
   },
   "outputs": [],
   "source": [
    "from selenium import webdriver\n",
    "from selenium.webdriver.common.by import By\n",
    "from selenium.webdriver.chrome.options import Options\n",
    "from selenium.webdriver.support.ui import WebDriverWait\n",
    "from selenium.webdriver.support import expected_conditions as EC\n",
    "import openpyxl\n",
    "\n",
    "# Definindo as constantes\n",
    "DOMAIN = 'https://www.quintoandar.com.br'\n",
    "URL = f'{DOMAIN}/comprar/imovel/brasil'\n",
    "\n",
    "navegador = webdriver.Chrome()\n",
    "navegador.maximize_window()\n",
    "\n",
    "navegador.get(URL)\n",
    "\n",
    "while True:\n",
    "    try:\n",
    "        ver_mais_button = navegador.execute_script(\"return document.querySelector('button.Cozy__Button-Component.bvqY2e.wVqmS5.LLYiJC[aria-label=\\\"Ver mais\\\"]');\")\n",
    "        if ver_mais_button:\n",
    "            navegador.execute_script(\"arguments[0].click();\", ver_mais_button)\n",
    "            WebDriverWait(navegador, 10).until(EC.staleness_of(ver_mais_button))\n",
    "        else:\n",
    "            break\n",
    "    except:\n",
    "        break\n",
    "        \n",
    "valores = navegador.find_elements(By.CSS_SELECTOR, 'div.Cozy__CardTitle-Title.hFUhPy h3')\n",
    "valorAluguel = navegador.find_elements(By.CSS_SELECTOR, 'div.Cozy__CardTitle-Subtitle.JyjznE h3')\n",
    "endereco = navegador.find_elements(By.CSS_SELECTOR, 'div.Cozy__CardContent-Container.XBxUCJ h3')\n",
    "enderecoPreciso = navegador.find_elements(By.CSS_SELECTOR, 'div.Cozy__CardContent-Container.XBxUCJ h2')\n",
    "\n",
    "planilha = openpyxl.Workbook()\n",
    "aba = planilha.active\n",
    "\n",
    "\n",
    "aba['A1'] = 'Valor Total'\n",
    "aba['B1'] = 'Valor Aluguel'\n",
    "aba['C1'] = 'Tamanho'\n",
    "aba['D1'] = 'Endereço'\n",
    "\n",
    "\n",
    "for i in range(len(valores)):\n",
    "    aba.cell(row=i+2, column=1, value=valores[i].text)\n",
    "    aba.cell(row=i+2, column=2, value=valorAluguel[i].text)\n",
    "    aba.cell(row=i+2, column=3, value=endereco[i].text)\n",
    "    aba.cell(row=i+2, column=4, value=enderecoPreciso[i].text)\n",
    "\n",
    "\n",
    "planilha.save('dados_imoveis.xlsx')\n",
    "navegador.quit()\n"
   ]
  },
  {
   "cell_type": "code",
   "execution_count": null,
   "id": "baf28c9b-9a56-426a-a791-79b501c57c18",
   "metadata": {},
   "outputs": [],
   "source": []
  },
  {
   "cell_type": "code",
   "execution_count": null,
   "id": "12236258-95e9-4f2b-80f2-dddf8dff3d04",
   "metadata": {},
   "outputs": [],
   "source": []
  }
 ],
 "metadata": {
  "kernelspec": {
   "display_name": "Python 3 (ipykernel)",
   "language": "python",
   "name": "python3"
  },
  "language_info": {
   "codemirror_mode": {
    "name": "ipython",
    "version": 3
   },
   "file_extension": ".py",
   "mimetype": "text/x-python",
   "name": "python",
   "nbconvert_exporter": "python",
   "pygments_lexer": "ipython3",
   "version": "3.12.4"
  }
 },
 "nbformat": 4,
 "nbformat_minor": 5
}
